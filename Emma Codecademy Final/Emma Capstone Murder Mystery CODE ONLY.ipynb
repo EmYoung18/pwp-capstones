{
 "cells": [
  {
   "cell_type": "code",
   "execution_count": 5,
   "metadata": {},
   "outputs": [],
   "source": [
    "murder_note = \"You may call me heartless, a killer, a monster, a murderer, but I'm still NOTHING compared to the villian that Jay was. This whole contest was a sham, an elaborate plot to shame the contestants and feed Jay's massive, massive ego. SURE you think you know him! You've seen him smiling for the cameras, laughing, joking, telling stories, waving his money around like a prop but off camera he was a sinister beast, a cruel cruel taskmaster, he treated all of us like slaves, like cattle, like animals! Do you remember Lindsay, she was the first to go, he called her such horrible things that she cried all night, keeping up all up, crying, crying, and more crying, he broke her with his words. I miss my former cast members, all of them very much. And we had to live with him, live in his home, live in his power, deal with his crazy demands. AND FOR WHAT! DID YOU KNOW THAT THE PRIZE ISN'T REAL? He never intended to marry one of us! The carrot on the stick was gone, all that was left was stick, he told us last night that we were all a terrible terrible disappointment and none of us would ever amount to anything, and that regardless of who won the contest he would never speak to any of us again! It's definitely the things like this you can feel in your gut how wrong he is! Well I showed him, he got what he deserved all right, I showed him, I showed him the person I am! I wasn't going to be pushed around any longer, and I wasn't going to let him go on pretending that he was some saint when all he was was a sick sick twisted man who deserved every bit of what he got. The fans need to know, Jay Stacksby is a vile amalgamation of all things evil and bad and the world is a better place without him.\"\n",
    "lily_trebuchet_intro = \"Hi, I'm Lily Trebuchet from East Egg, Long Island. I love cats, hiking, and curling up under a warm blanket with a book. So they gave this little questionnaire to use for our bios so lets get started. What are some of my least favorite household chores? Dishes, oh yes it's definitely the dishes, I just hate doing them, don't you? Who is your favorite actor and why? Hmm, that's a hard one, but I think recently I'll have to go with Michael B. Jordan, every bit of that man is handsome, HANDSOME! Do you remember seeing him shirtless? I can't believe what he does for the cameras! Okay okay next question, what is your perfect date? Well it starts with a nice dinner at a delicious but small restaurant, you know like one of those places where the owner is in the back and comes out to talk to you and ask you how your meal was. My favorite form of art? Another hard one, but I think I'll have to go with music, music you can feel in your whole body and it is electrifying and best of all, you can dance to it! Okay final question, let's see, What are three things you cannot live without? Well first off, my beautiful, beautiful cat Jerry, he is my heart and spirit animal. Second is pasta, definitely pasta, and the third I think is my family, I love all of them very much and they support me in everything I do. I know Jay Stacksby is a handsome man and all of us want to be the first to walk down the aisle with him, but I think he might truly be the one for me. Okay that's it for the bio, I hope you have fun watching the show!\"\n",
    "myrtle_beech_intro = \"Salutations. My name, Myrtle. Myrtle Beech. I am a woman of simple tastes. I enjoy reading, thinking, and doing my taxes. I entered this competition because I want a serious relationship. I want a commitment. The last man I dated was too whimsical. He wanted to go on dates that had no plan. No end goal. Sometimes we would just end up wandering the streets after dinner. He called it a walk. A walk with no destination. Can you imagine? I like every action I take to have a measurable effect. When I see a movie, I like to walk away with insights that I did not have before. When I take a bike ride, there better be a worthy destination at the end of the bike path. Jay seems frivolous at times. This worries me. However, it is my staunch belief that one does not make and keep money without having a modicum of discipline. As such, I am hopeful. I will now list three things I cannot live without. Water. Emery boards. Dogs. Thank you for the opportunity to introduce myself. I look forward to the competition.\"\n",
    "gregg_t_fishy_intro = \"A good day to you all, I am Gregg T Fishy, of the Fishy Enterprise fortune. I am 37 years young. An adventurous spirit and I've never lost my sense of childlike wonder. I do love to be in the backyard gardening and I have the most extraordinary time when I'm fishing. Fishing for what, you might ask? Why, fishing for compliments of course! I have a stunning pair of radiant blue eyes. They will pierce the soul of anyone who dare gaze upon my countenance. I quite enjoy going on long jaunts through garden paths and short walks through greenhouses. I hope that Jay will be as absolutely interesting as he appears on the television. I find that he has some of the most curious tastes in style and humor. When I'm out and about I quite enjoy hearing tales that instill in my heart of hearts the fascination that beguiles my every day life. Every fiber of my being scintillates and vascillates with extreme pleasure during one of these charming anecdotes and significantly pleases my beautiful personage. I cannot wait to enjoy being on A Brand New Jay. It certainly seems like a grand time to explore life and love.\"\n",
    "\n"
   ]
  },
  {
   "cell_type": "code",
   "execution_count": 6,
   "metadata": {},
   "outputs": [],
   "source": [
    "murder_note = \"You may call me heartless, a killer, a monster, a murderer, but I'm still NOTHING compared to the villian that Jay was. This whole contest was a sham, an elaborate plot to shame the contestants and feed Jay's massive, massive ego. SURE you think you know him! You've seen him smiling for the cameras, laughing, joking, telling stories, waving his money around like a prop but off camera he was a sinister beast, a cruel cruel taskmaster, he treated all of us like slaves, like cattle, like animals! Do you remember Lindsay, she was the first to go, he called her such horrible things that she cried all night, keeping up all up, crying, crying, and more crying, he broke her with his words. I miss my former cast members, all of them very much. And we had to live with him, live in his home, live in his power, deal with his crazy demands. AND FOR WHAT! DID YOU KNOW THAT THE PRIZE ISN'T REAL? He never intended to marry one of us! The carrot on the stick was gone, all that was left was stick, he told us last night that we were all a terrible terrible disappointment and none of us would ever amount to anything, and that regardless of who won the contest he would never speak to any of us again! It's definitely the things like this you can feel in your gut how wrong he is! Well I showed him, he got what he deserved all right, I showed him, I showed him the person I am! I wasn't going to be pushed around any longer, and I wasn't going to let him go on pretending that he was some saint when all he was was a sick sick twisted man who deserved every bit of what he got. The fans need to know, Jay Stacksby is a vile amalgamation of all things evil and bad and the world is a better place without him.\"\n",
    "lily_trebuchet_intro = \"Hi, I'm Lily Trebuchet from East Egg, Long Island. I love cats, hiking, and curling up under a warm blanket with a book. So they gave this little questionnaire to use for our bios so lets get started. What are some of my least favorite household chores? Dishes, oh yes it's definitely the dishes, I just hate doing them, don't you? Who is your favorite actor and why? Hmm, that's a hard one, but I think recently I'll have to go with Michael B. Jordan, every bit of that man is handsome, HANDSOME! Do you remember seeing him shirtless? I can't believe what he does for the cameras! Okay okay next question, what is your perfect date? Well it starts with a nice dinner at a delicious but small restaurant, you know like one of those places where the owner is in the back and comes out to talk to you and ask you how your meal was. My favorite form of art? Another hard one, but I think I'll have to go with music, music you can feel in your whole body and it is electrifying and best of all, you can dance to it! Okay final question, let's see, What are three things you cannot live without? Well first off, my beautiful, beautiful cat Jerry, he is my heart and spirit animal. Second is pasta, definitely pasta, and the third I think is my family, I love all of them very much and they support me in everything I do. I know Jay Stacksby is a handsome man and all of us want to be the first to walk down the aisle with him, but I think he might truly be the one for me. Okay that's it for the bio, I hope you have fun watching the show!\"\n",
    "myrtle_beech_intro = \"Salutations. My name, Myrtle. Myrtle Beech. I am a woman of simple tastes. I enjoy reading, thinking, and doing my taxes. I entered this competition because I want a serious relationship. I want a commitment. The last man I dated was too whimsical. He wanted to go on dates that had no plan. No end goal. Sometimes we would just end up wandering the streets after dinner. He called it a walk. A walk with no destination. Can you imagine? I like every action I take to have a measurable effect. When I see a movie, I like to walk away with insights that I did not have before. When I take a bike ride, there better be a worthy destination at the end of the bike path. Jay seems frivolous at times. This worries me. However, it is my staunch belief that one does not make and keep money without having a modicum of discipline. As such, I am hopeful. I will now list three things I cannot live without. Water. Emery boards. Dogs. Thank you for the opportunity to introduce myself. I look forward to the competition.\"\n",
    "gregg_t_fishy_intro = \"A good day to you all, I am Gregg T Fishy, of the Fishy Enterprise fortune. I am 37 years young. An adventurous spirit and I've never lost my sense of childlike wonder. I do love to be in the backyard gardening and I have the most extraordinary time when I'm fishing. Fishing for what, you might ask? Why, fishing for compliments of course! I have a stunning pair of radiant blue eyes. They will pierce the soul of anyone who dare gaze upon my countenance. I quite enjoy going on long jaunts through garden paths and short walks through greenhouses. I hope that Jay will be as absolutely interesting as he appears on the television. I find that he has some of the most curious tastes in style and humor. When I'm out and about I quite enjoy hearing tales that instill in my heart of hearts the fascination that beguiles my every day life. Every fiber of my being scintillates and vascillates with extreme pleasure during one of these charming anecdotes and significantly pleases my beautiful personage. I cannot wait to enjoy being on A Brand New Jay. It certainly seems like a grand time to explore life and love.\"\n",
    "\n",
    "def get_average_sentence_length(text):\n",
    "    sentences_in_text = []\n",
    "    words_in_sentences = []\n",
    "    text2 = text.replace('!','.')\n",
    "    text3 = text2.replace('?','.')\n",
    "    text3_split = text3.split('.')\n",
    "    for sentence in text3_split:\n",
    "        sentences_in_text.append(sentence)\n",
    "        for i in sentences_in_text:\n",
    "            words_in_sentences.append(i)\n",
    "    sentences = len(sentences_in_text)\n",
    "    words = len(words_in_sentences)\n",
    "    average_sentence_length = words/sentences\n",
    "    print (sentences)\n",
    "    print (words)\n",
    "    return average_sentence_length\n",
    "\n"
   ]
  },
  {
   "cell_type": "code",
   "execution_count": 7,
   "metadata": {},
   "outputs": [],
   "source": [
    "class TextSample:\n",
    "    def __init__(self, text, author):\n",
    "        self.raw_text = text\n",
    "        self.author = author\n",
    "        self.average_sentence_length = get_average_sentence_length(text)\n",
    "        self.prepared_text = prepared_text(text)\n",
    "        self.word_count_frequency = word_count_frequency (text)\n",
    "        self.ngram_frequency = negram_frequency\n",
    "        print(TextSample)\n",
    "        "
   ]
  },
  {
   "cell_type": "code",
   "execution_count": 8,
   "metadata": {},
   "outputs": [
    {
     "name": "stdout",
     "output_type": "stream",
     "text": [
      "16\n",
      "136\n"
     ]
    },
    {
     "ename": "NameError",
     "evalue": "name 'prepared_text' is not defined",
     "output_type": "error",
     "traceback": [
      "\u001b[0;31m---------------------------------------------------------------------------\u001b[0m",
      "\u001b[0;31mNameError\u001b[0m                                 Traceback (most recent call last)",
      "\u001b[0;32m<ipython-input-8-1a26a1bf73e0>\u001b[0m in \u001b[0;36m<module>\u001b[0;34m()\u001b[0m\n\u001b[0;32m----> 1\u001b[0;31m \u001b[0;32mclass\u001b[0m \u001b[0mTextSample\u001b[0m\u001b[0;34m:\u001b[0m\u001b[0;34m\u001b[0m\u001b[0m\n\u001b[0m\u001b[1;32m      2\u001b[0m     \u001b[0mmurder_sample\u001b[0m \u001b[0;34m=\u001b[0m \u001b[0mTextSample\u001b[0m\u001b[0;34m(\u001b[0m\u001b[0mmurder_note\u001b[0m\u001b[0;34m,\u001b[0m \u001b[0;34m\"Murderer\"\u001b[0m\u001b[0;34m)\u001b[0m\u001b[0;34m\u001b[0m\u001b[0m\n\u001b[1;32m      3\u001b[0m     \u001b[0mlily_sample\u001b[0m \u001b[0;34m=\u001b[0m \u001b[0mTextSample\u001b[0m\u001b[0;34m(\u001b[0m\u001b[0mlily_trebuchet_intro\u001b[0m\u001b[0;34m,\u001b[0m \u001b[0;34m\"Lily Trebuchet\"\u001b[0m\u001b[0;34m)\u001b[0m\u001b[0;34m\u001b[0m\u001b[0m\n\u001b[1;32m      4\u001b[0m     \u001b[0mmyrtle_sample\u001b[0m \u001b[0;34m=\u001b[0m \u001b[0mTextSample\u001b[0m\u001b[0;34m(\u001b[0m\u001b[0mmyrtle_beech_intro\u001b[0m\u001b[0;34m,\u001b[0m \u001b[0;34m\"Myrtle Beech\"\u001b[0m\u001b[0;34m)\u001b[0m\u001b[0;34m\u001b[0m\u001b[0m\n\u001b[1;32m      5\u001b[0m     \u001b[0mgregg_sample\u001b[0m \u001b[0;34m=\u001b[0m \u001b[0mTextSample\u001b[0m\u001b[0;34m(\u001b[0m\u001b[0mgregg_t_fishy_intro\u001b[0m\u001b[0;34m,\u001b[0m \u001b[0;34m\"Gregg Fishy\"\u001b[0m\u001b[0;34m)\u001b[0m\u001b[0;34m\u001b[0m\u001b[0m\n",
      "\u001b[0;32m<ipython-input-8-1a26a1bf73e0>\u001b[0m in \u001b[0;36mTextSample\u001b[0;34m()\u001b[0m\n\u001b[1;32m      1\u001b[0m \u001b[0;32mclass\u001b[0m \u001b[0mTextSample\u001b[0m\u001b[0;34m:\u001b[0m\u001b[0;34m\u001b[0m\u001b[0m\n\u001b[0;32m----> 2\u001b[0;31m     \u001b[0mmurder_sample\u001b[0m \u001b[0;34m=\u001b[0m \u001b[0mTextSample\u001b[0m\u001b[0;34m(\u001b[0m\u001b[0mmurder_note\u001b[0m\u001b[0;34m,\u001b[0m \u001b[0;34m\"Murderer\"\u001b[0m\u001b[0;34m)\u001b[0m\u001b[0;34m\u001b[0m\u001b[0m\n\u001b[0m\u001b[1;32m      3\u001b[0m     \u001b[0mlily_sample\u001b[0m \u001b[0;34m=\u001b[0m \u001b[0mTextSample\u001b[0m\u001b[0;34m(\u001b[0m\u001b[0mlily_trebuchet_intro\u001b[0m\u001b[0;34m,\u001b[0m \u001b[0;34m\"Lily Trebuchet\"\u001b[0m\u001b[0;34m)\u001b[0m\u001b[0;34m\u001b[0m\u001b[0m\n\u001b[1;32m      4\u001b[0m     \u001b[0mmyrtle_sample\u001b[0m \u001b[0;34m=\u001b[0m \u001b[0mTextSample\u001b[0m\u001b[0;34m(\u001b[0m\u001b[0mmyrtle_beech_intro\u001b[0m\u001b[0;34m,\u001b[0m \u001b[0;34m\"Myrtle Beech\"\u001b[0m\u001b[0;34m)\u001b[0m\u001b[0;34m\u001b[0m\u001b[0m\n\u001b[1;32m      5\u001b[0m     \u001b[0mgregg_sample\u001b[0m \u001b[0;34m=\u001b[0m \u001b[0mTextSample\u001b[0m\u001b[0;34m(\u001b[0m\u001b[0mgregg_t_fishy_intro\u001b[0m\u001b[0;34m,\u001b[0m \u001b[0;34m\"Gregg Fishy\"\u001b[0m\u001b[0;34m)\u001b[0m\u001b[0;34m\u001b[0m\u001b[0m\n",
      "\u001b[0;32m<ipython-input-7-d1df81fe03f7>\u001b[0m in \u001b[0;36m__init__\u001b[0;34m(self, text, author)\u001b[0m\n\u001b[1;32m      4\u001b[0m         \u001b[0mself\u001b[0m\u001b[0;34m.\u001b[0m\u001b[0mauthor\u001b[0m \u001b[0;34m=\u001b[0m \u001b[0mauthor\u001b[0m\u001b[0;34m\u001b[0m\u001b[0m\n\u001b[1;32m      5\u001b[0m         \u001b[0mself\u001b[0m\u001b[0;34m.\u001b[0m\u001b[0maverage_sentence_length\u001b[0m \u001b[0;34m=\u001b[0m \u001b[0mget_average_sentence_length\u001b[0m\u001b[0;34m(\u001b[0m\u001b[0mtext\u001b[0m\u001b[0;34m)\u001b[0m\u001b[0;34m\u001b[0m\u001b[0m\n\u001b[0;32m----> 6\u001b[0;31m         \u001b[0mself\u001b[0m\u001b[0;34m.\u001b[0m\u001b[0mprepared_text\u001b[0m \u001b[0;34m=\u001b[0m \u001b[0mprepared_text\u001b[0m\u001b[0;34m(\u001b[0m\u001b[0mtext\u001b[0m\u001b[0;34m)\u001b[0m\u001b[0;34m\u001b[0m\u001b[0m\n\u001b[0m\u001b[1;32m      7\u001b[0m         \u001b[0mself\u001b[0m\u001b[0;34m.\u001b[0m\u001b[0mword_count_frequency\u001b[0m \u001b[0;34m=\u001b[0m \u001b[0mword_count_frequency\u001b[0m \u001b[0;34m(\u001b[0m\u001b[0mtext\u001b[0m\u001b[0;34m)\u001b[0m\u001b[0;34m\u001b[0m\u001b[0m\n\u001b[1;32m      8\u001b[0m         \u001b[0mself\u001b[0m\u001b[0;34m.\u001b[0m\u001b[0mngram_frequency\u001b[0m \u001b[0;34m=\u001b[0m \u001b[0mnegram_frequency\u001b[0m\u001b[0;34m\u001b[0m\u001b[0m\n",
      "\u001b[0;31mNameError\u001b[0m: name 'prepared_text' is not defined"
     ]
    }
   ],
   "source": [
    "class TextSample:\n",
    "    murder_sample = TextSample(murder_note, \"Murderer\")\n",
    "    lily_sample = TextSample(lily_trebuchet_intro, \"Lily Trebuchet\")\n",
    "    myrtle_sample = TextSample(myrtle_beech_intro, \"Myrtle Beech\")\n",
    "    gregg_sample = TextSample(gregg_t_fishy_intro, \"Gregg Fishy\")\n",
    "print(murder_sample)\n",
    "print(lily_sample)\n",
    "print(myrtle_sample)\n",
    "print(gregg_sample)"
   ]
  },
  {
   "cell_type": "code",
   "execution_count": null,
   "metadata": {},
   "outputs": [],
   "source": [
    "def prepare_text(text):\n",
    "    for text in sentences_in_text:\n",
    "        return sentences_in_text.lower().strip(punctuation)"
   ]
  },
  {
   "cell_type": "code",
   "execution_count": null,
   "metadata": {},
   "outputs": [],
   "source": [
    "def build_frequency_table(corpus, frequency_table):\n",
    "    frequency_table = {}\n",
    "    for element in corpus:\n",
    "        if element in corpus:\n",
    "            frequency_table[element] += 1\n",
    "        return frequency_table\n",
    "    word_count_frequency = []\n",
    "    for word in corpus:\n",
    "        if word in corpus:\n",
    "            word_count_frequency[word] += 1\n",
    "            return word_count_frequency\n",
    "        "
   ]
  },
  {
   "cell_type": "code",
   "execution_count": null,
   "metadata": {},
   "outputs": [],
   "source": [
    "def ngram_creator(text_list, n):\n",
    "    ngram_creator = []\n",
    "    for i in range(len(text_list)- 1:\n",
    "        first_word = text_list[i]\n",
    "        second_word = text_list[i +1]\n",
    "        pair = [first_word + second_word]\n",
    "        ngram_creator = ngram_creator.append(pair)\n",
    "    return ngram_creator\n",
    "def build_frequency_table(ngram_frequency, TextSample):\n",
    "    ngram_frequency = []\n",
    "    for element in TextSample:\n",
    "        ngram_frequency[element] += 2\n",
    "    return ngram_frequency\n",
    "        "
   ]
  },
  {
   "cell_type": "code",
   "execution_count": null,
   "metadata": {},
   "outputs": [],
   "source": [
    "def frequency_comparison(table1, table2):\n",
    "    appearances = []\n",
    "    mutual_appearances = []\n",
    "    for keys in table1.keys():\n",
    "        if keys in table2.keys():\n",
    "            elif table1[keys] >= table2[keys]:\n",
    "                appearances += table1[keys]\n",
    "                mutual_appearances += table2[keys]\n",
    "            elif table2[keys] > table1[keys]:\n",
    "                appearances += table2[keys]\n",
    "                mutual_appearances += table1[keys]\n",
    "            elif not keys in table2.keys():\n",
    "                appearances += table1[keys]\n",
    "    for keys in table2.keys():\n",
    "        if not keys in table1.keys():\n",
    "            appearances += table2[keys]\n",
    "        return mutual_appearances / appearances\n",
    "\n",
    "print(frequency_comparison(murderer_sample.word_count_frequency(), lily_sample.word_count_frequency(), myrtle.sample.word_count_frequency(), gregg.sample.word_count_frequency())"
   ]
  },
  {
   "cell_type": "code",
   "execution_count": null,
   "metadata": {},
   "outputs": [],
   "source": [
    "def percent_difference(value1, value2):\n",
    "    percent_difference = []\n",
    "    for percent_difference in TextSamples:\n",
    "        return percent_difference.append(abs(value1 - value2)/((value1 + value2)/2))"
   ]
  },
  {
   "cell_type": "code",
   "execution_count": null,
   "metadata": {},
   "outputs": [],
   "source": [
    "def find_text_similarity(text1, text2):\n",
    "    #sentencelength similarity\n",
    "    length_text1 = get_average_sentence_length(text1)\n",
    "    length_text2 = get_average_sentence_length(text2)\n",
    "    sentence_length_difference = percent_difference(length_text1, length_text2)\n",
    "    sentence_length_similarity = abs(1 - sentence_length_difference)\n",
    "    #word count similarity\n",
    "    sim_text1 = similar_text(text1)\n",
    "    sim_text2 = similar_text(text2)\n",
    "    table1 = build_frequency_table(sim_text1)\n",
    "    table2 = build_frequency_table(sim_text2)\n",
    "    word_count_similarity = frequency_comparison(table1, table2)\n",
    "    #ngram similarity\n",
    "    ngram1 = ngram_creator(sim_text1)\n",
    "    ngram2= ngram_creator(sim_text2)\n",
    "    ngram_table1 = build_frequency_table(ngram1)\n",
    "    ngram_table2 = build_frequency_table(ngram2)\n",
    "    ngram_similarity = frequency_comparison(ngram_table1, ngram_table2)\n",
    "    #overall similarity\n",
    "    average_text_similarity = float((sentence_length_similarity + word_count_similarity + ngram_similarity)/3)\n",
    "    return average_text_similarity"
   ]
  },
  {
   "cell_type": "code",
   "execution_count": null,
   "metadata": {},
   "outputs": [],
   "source": [
    "print(\"Lily Trebuchet\", murder_sample.find_text_similarity, lily_sample.find_text_similarity)\n",
    "print(\"Myrtle Beech\", murder_sample.find_text_similarity, myrtle_sample.find_text_similarity)\n",
    "print(\"Gregg T. Fishy\", murder_sample.find_text_similarity, gregg_sample.find_text_similarity)"
   ]
  },
  {
   "cell_type": "code",
   "execution_count": 9,
   "metadata": {},
   "outputs": [
    {
     "name": "stdout",
     "output_type": "stream",
     "text": [
      "Gregg T. Fishy killed Jay Stacksby.\n"
     ]
    }
   ],
   "source": [
    "print(\"Gregg T. Fishy killed Jay Stacksby.\")"
   ]
  },
  {
   "cell_type": "code",
   "execution_count": null,
   "metadata": {},
   "outputs": [],
   "source": []
  }
 ],
 "metadata": {
  "kernelspec": {
   "display_name": "Python 3",
   "language": "python",
   "name": "python3"
  },
  "language_info": {
   "codemirror_mode": {
    "name": "ipython",
    "version": 3
   },
   "file_extension": ".py",
   "mimetype": "text/x-python",
   "name": "python",
   "nbconvert_exporter": "python",
   "pygments_lexer": "ipython3",
   "version": "3.6.5"
  }
 },
 "nbformat": 4,
 "nbformat_minor": 2
}
